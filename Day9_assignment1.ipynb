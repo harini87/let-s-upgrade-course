{
  "nbformat": 4,
  "nbformat_minor": 0,
  "metadata": {
    "colab": {
      "name": "Day9 assignment1",
      "provenance": [],
      "authorship_tag": "ABX9TyNe0YeG8URONBqFojswmdmZ",
      "include_colab_link": true
    },
    "kernelspec": {
      "name": "python3",
      "display_name": "Python 3"
    }
  },
  "cells": [
    {
      "cell_type": "markdown",
      "metadata": {
        "id": "view-in-github",
        "colab_type": "text"
      },
      "source": [
        "<a href=\"https://colab.research.google.com/github/harini87/let-s-upgrade-course/blob/master/Day9_assignment1.ipynb\" target=\"_parent\"><img src=\"https://colab.research.google.com/assets/colab-badge.svg\" alt=\"Open In Colab\"/></a>"
      ]
    },
    {
      "cell_type": "code",
      "metadata": {
        "id": "1ZCLmwzfihJw",
        "colab_type": "code",
        "colab": {}
      },
      "source": [
        "! pip install pylint\n",
        "\n",
        "%%writefile prime number.py\n",
        "import sys\n",
        "x=int(sys.stdin.readline())\n",
        "y=int(sys.stdin.readline())\n",
        " \n",
        "y=y+1\n",
        "lst=[]\n",
        "def prime(start.end)\n",
        "   for Val in range(start,end):\n",
        "     if Val>1:\n",
        "       for n in range (2,value):\n",
        "        if(val%n)==0:\n",
        "          break\n",
        "  else:\n",
        "          lst.append(Val)\n",
        "   print(lst)\n",
        "print(X,y)"
      ],
      "execution_count": null,
      "outputs": []
    }
  ]
}