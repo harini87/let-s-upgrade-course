{
  "nbformat": 4,
  "nbformat_minor": 0,
  "metadata": {
    "colab": {
      "name": "Day3 assignment1",
      "provenance": [],
      "authorship_tag": "ABX9TyPIF2i3LKfAr67gVcy7kCFJ",
      "include_colab_link": true
    },
    "kernelspec": {
      "name": "python3",
      "display_name": "Python 3"
    }
  },
  "cells": [
    {
      "cell_type": "markdown",
      "metadata": {
        "id": "view-in-github",
        "colab_type": "text"
      },
      "source": [
        "<a href=\"https://colab.research.google.com/github/harini87/let-s-upgrade-course/blob/master/Day3_assignment1.ipynb\" target=\"_parent\"><img src=\"https://colab.research.google.com/assets/colab-badge.svg\" alt=\"Open In Colab\"/></a>"
      ]
    },
    {
      "cell_type": "code",
      "metadata": {
        "id": "8WMXsOnNlCGl",
        "colab_type": "code",
        "colab": {
          "base_uri": "https://localhost:8080/",
          "height": 51
        },
        "outputId": "38fda9e8-f728-455a-bf3b-c5bc6c9e4e0e"
      },
      "source": [
        " \n",
        "plane= 5000\n",
        " \n",
        " \n",
        "if plane > 1000:\n",
        "   print(\"come down to 1000\")\n",
        "if plane <= 1000:\n",
        "    print(\"land the plane\")\n",
        "else:\n",
        "     print(\"turn around\")"
      ],
      "execution_count": 7,
      "outputs": [
        {
          "output_type": "stream",
          "text": [
            "come down to 1000\n",
            "turn around\n"
          ],
          "name": "stdout"
        }
      ]
    },
    {
      "cell_type": "code",
      "metadata": {
        "id": "J_c7mRy1oZGc",
        "colab_type": "code",
        "colab": {
          "base_uri": "https://localhost:8080/",
          "height": 34
        },
        "outputId": "e4520907-3070-4187-f4e0-076368a3c9b0"
      },
      "source": [
        " plane= 900\n",
        " \n",
        " \n",
        "if plane > 1000:\n",
        "   print(\"come down to 1000\")\n",
        "if plane <= 1000:\n",
        "    print(\"land the plane\")\n",
        "else:\n",
        "     print(\"turn around\")"
      ],
      "execution_count": 8,
      "outputs": [
        {
          "output_type": "stream",
          "text": [
            "land the plane\n"
          ],
          "name": "stdout"
        }
      ]
    },
    {
      "cell_type": "code",
      "metadata": {
        "id": "-V1QWH4poiD2",
        "colab_type": "code",
        "colab": {
          "base_uri": "https://localhost:8080/",
          "height": 51
        },
        "outputId": "6341064c-ca3c-4720-d303-9f3cbd9b53c0"
      },
      "source": [
        " plane= 3000\n",
        " \n",
        " \n",
        "if plane > 1000:\n",
        "   print(\"come down to 1000\")\n",
        "if plane <= 1000:\n",
        "    print(\"land the plane\")\n",
        "else:\n",
        "     print(\"turn around\")"
      ],
      "execution_count": 10,
      "outputs": [
        {
          "output_type": "stream",
          "text": [
            "come down to 1000\n",
            "turn around\n"
          ],
          "name": "stdout"
        }
      ]
    }
  ]
}