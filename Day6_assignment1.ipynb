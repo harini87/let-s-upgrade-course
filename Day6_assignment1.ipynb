{
  "nbformat": 4,
  "nbformat_minor": 0,
  "metadata": {
    "colab": {
      "name": "Day6 assignment1",
      "provenance": [],
      "authorship_tag": "ABX9TyOwMLXtHTyYHvHUEIeMOHqk",
      "include_colab_link": true
    },
    "kernelspec": {
      "name": "python3",
      "display_name": "Python 3"
    }
  },
  "cells": [
    {
      "cell_type": "markdown",
      "metadata": {
        "id": "view-in-github",
        "colab_type": "text"
      },
      "source": [
        "<a href=\"https://colab.research.google.com/github/harini87/let-s-upgrade-course/blob/master/Day6_assignment1.ipynb\" target=\"_parent\"><img src=\"https://colab.research.google.com/assets/colab-badge.svg\" alt=\"Open In Colab\"/></a>"
      ]
    },
    {
      "cell_type": "code",
      "metadata": {
        "id": "rGeFsD_jyL1k",
        "colab_type": "code",
        "colab": {
          "base_uri": "https://localhost:8080/",
          "height": 105
        },
        "outputId": "899f4d7e-a0bb-4505-ebc3-bbaa2b572526"
      },
      "source": [
        " #Python Program to find Volume and Surface Area of a Cone using functions\n",
        " \n",
        "import math\n",
        " \n",
        "def Vo_Sa_Cone(radius, height):\n",
        "    # Calculate Length of a Slide (Slant)\n",
        "    l = math.sqrt(radius * radius + height * height)\n",
        " \n",
        "    # Calculate the Surface Area\n",
        "    SA = math.pi * radius * (radius + l)\n",
        " \n",
        "    # Calculate the Volume\n",
        "    Volume = (1.0/3) * math.pi * radius * radius * height\n",
        " \n",
        "    # Calculate the Lateral Surface Area\n",
        "    LSA = math.pi * radius  * l\n",
        " \n",
        "    print(\"\\n Length of a Side (Slant)of a Cone = %.2f\" %l)\n",
        "    print(\" The Surface Area of a Cone = %.2f \" %SA)\n",
        "    print(\" The Volume of a Cone = %.2f\" %Volume)\n",
        "    \n",
        " \n",
        "Vo_Sa_Cone(6,10)"
      ],
      "execution_count": 3,
      "outputs": [
        {
          "output_type": "stream",
          "text": [
            "\n",
            " Length of a Side (Slant)of a Cone = 11.66\n",
            " The Surface Area of a Cone = 332.92 \n",
            " The Volume of a Cone = 376.99\n"
          ],
          "name": "stdout"
        }
      ]
    }
  ]
}