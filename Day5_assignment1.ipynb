{
  "nbformat": 4,
  "nbformat_minor": 0,
  "metadata": {
    "colab": {
      "name": "Day5 assignment1",
      "provenance": [],
      "authorship_tag": "ABX9TyM1VfZHPobyMEAXhqA5bs5Y",
      "include_colab_link": true
    },
    "kernelspec": {
      "name": "python3",
      "display_name": "Python 3"
    }
  },
  "cells": [
    {
      "cell_type": "markdown",
      "metadata": {
        "id": "view-in-github",
        "colab_type": "text"
      },
      "source": [
        "<a href=\"https://colab.research.google.com/github/harini87/let-s-upgrade-course/blob/master/Day5_assignment1.ipynb\" target=\"_parent\"><img src=\"https://colab.research.google.com/assets/colab-badge.svg\" alt=\"Open In Colab\"/></a>"
      ]
    },
    {
      "cell_type": "code",
      "metadata": {
        "id": "huJR4s_2M5wm",
        "colab_type": "code",
        "colab": {
          "base_uri": "https://localhost:8080/",
          "height": 34
        },
        "outputId": "c1c5cd4c-9aa0-4b06-f1be-77ef3692cc4e"
      },
      "source": [
        " \n",
        "def is_Sublist(l, s):\n",
        "    sub_set = \"it is gone\"\n",
        "    if s == []:\n",
        "        sub_set = \"it is match\"\n",
        "    elif s == l:\n",
        "        sub_set = \"it is match\"\n",
        " \n",
        "    elif len(s) > len(l):\n",
        "        sub_set = \"it is gone\"\n",
        " \n",
        "    else:\n",
        "        for i in range(len(l)):\n",
        "            if l[i] == s[0]:\n",
        "                n = 1\n",
        "                while (n < len(s)) and (l[i+n] == s[n]):\n",
        "                    n += 1\n",
        "                \n",
        "                if n == len(s):\n",
        "                    sub_set = \"it is match\"\n",
        " \n",
        "    return sub_set\n",
        " \n",
        " \n",
        "a = [1,5,6,4,1,2,3,5]\n",
        "b = [1,5,6,5,1,2,3,5]\n",
        "c = [1,1,5]\n",
        " \n",
        "print(is_Sublist(a, c))"
      ],
      "execution_count": 27,
      "outputs": [
        {
          "output_type": "stream",
          "text": [
            "it is gone\n"
          ],
          "name": "stdout"
        }
      ]
    }
  ]
}