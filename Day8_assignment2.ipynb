{
  "nbformat": 4,
  "nbformat_minor": 0,
  "metadata": {
    "colab": {
      "name": "Day8 assignment2",
      "provenance": [],
      "authorship_tag": "ABX9TyMzPFXJUDidoN+zYcK4OYCU",
      "include_colab_link": true
    },
    "kernelspec": {
      "name": "python3",
      "display_name": "Python 3"
    }
  },
  "cells": [
    {
      "cell_type": "markdown",
      "metadata": {
        "id": "view-in-github",
        "colab_type": "text"
      },
      "source": [
        "<a href=\"https://colab.research.google.com/github/harini87/let-s-upgrade-course/blob/master/Day8_assignment2.ipynb\" target=\"_parent\"><img src=\"https://colab.research.google.com/assets/colab-badge.svg\" alt=\"Open In Colab\"/></a>"
      ]
    },
    {
      "cell_type": "code",
      "metadata": {
        "id": "lTp8AHW-JimJ",
        "colab_type": "code",
        "colab": {
          "base_uri": "https://localhost:8080/",
          "height": 139
        },
        "outputId": "f5e62fed-a9c2-457b-b568-b25056b04f29"
      },
      "source": [
        " while True:\n",
        "    try:\n",
        "        n = input(\"Please enter an integer: \")\n",
        "        n = int(n)\n",
        "        break\n",
        "    except ValueError:\n",
        "        print(\"No valid integer! Please try again ...\")\n",
        "print(\"Great, you successfully entered an integer!\")"
      ],
      "execution_count": 1,
      "outputs": [
        {
          "output_type": "stream",
          "text": [
            "Please enter an integer: 42.5\n",
            "No valid integer! Please try again ...\n",
            "Please enter an integer: 42.0\n",
            "No valid integer! Please try again ...\n",
            "Please enter an integer: 42\n",
            "Great, you successfully entered an integer!\n"
          ],
          "name": "stdout"
        }
      ]
    }
  ]
}