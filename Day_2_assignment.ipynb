{
  "nbformat": 4,
  "nbformat_minor": 0,
  "metadata": {
    "colab": {
      "name": "Day 2 assignment",
      "provenance": [],
      "authorship_tag": "ABX9TyM1SLglnZVMoy2aZy+IOsn6",
      "include_colab_link": true
    },
    "kernelspec": {
      "name": "python3",
      "display_name": "Python 3"
    }
  },
  "cells": [
    {
      "cell_type": "markdown",
      "metadata": {
        "id": "view-in-github",
        "colab_type": "text"
      },
      "source": [
        "<a href=\"https://colab.research.google.com/github/harini87/let-s-upgrade-course/blob/master/Day_2_assignment.ipynb\" target=\"_parent\"><img src=\"https://colab.research.google.com/assets/colab-badge.svg\" alt=\"Open In Colab\"/></a>"
      ]
    },
    {
      "cell_type": "code",
      "metadata": {
        "id": "Gl-JuCw5uPlG",
        "colab_type": "code",
        "colab": {
          "base_uri": "https://localhost:8080/",
          "height": 34
        },
        "outputId": "0d37050b-21ee-4657-9dc8-410adfb22cbe"
      },
      "source": [
        "List=[1,2,3,4,1,2,1]\n",
        "print(list)"
      ],
      "execution_count": null,
      "outputs": [
        {
          "output_type": "stream",
          "text": [
            "<class 'list'>\n"
          ],
          "name": "stdout"
        }
      ]
    },
    {
      "cell_type": "code",
      "metadata": {
        "id": "VFdw1gNMwLvL",
        "colab_type": "code",
        "colab": {
          "base_uri": "https://localhost:8080/",
          "height": 34
        },
        "outputId": "adc71ecb-82aa-4c14-af4a-a3bd152cbac7"
      },
      "source": [
        "List=[1,2,3,4,5]\n",
        "print(sum(List))"
      ],
      "execution_count": null,
      "outputs": [
        {
          "output_type": "stream",
          "text": [
            "15\n"
          ],
          "name": "stdout"
        }
      ]
    },
    {
      "cell_type": "code",
      "metadata": {
        "id": "hEyo0DCXwjPb",
        "colab_type": "code",
        "colab": {
          "base_uri": "https://localhost:8080/",
          "height": 34
        },
        "outputId": "dcc97038-d66d-463e-c6d1-8cbeb312c67d"
      },
      "source": [
        "List=[1,2,3,1,2,1,2,3,2,1]\n",
        "print(len(List))"
      ],
      "execution_count": null,
      "outputs": [
        {
          "output_type": "stream",
          "text": [
            "10\n"
          ],
          "name": "stdout"
        }
      ]
    },
    {
      "cell_type": "code",
      "metadata": {
        "id": "lI8O8rodxMpw",
        "colab_type": "code",
        "colab": {
          "base_uri": "https://localhost:8080/",
          "height": 34
        },
        "outputId": "299d9318-ed16-47cd-ab01-c245b1b94381"
      },
      "source": [
        "List=[1,2,3,4,1,2,1]\n",
        "print(List.index(2))"
      ],
      "execution_count": null,
      "outputs": [
        {
          "output_type": "stream",
          "text": [
            "1\n"
          ],
          "name": "stdout"
        }
      ]
    },
    {
      "cell_type": "code",
      "metadata": {
        "id": "6-Pv-4cGxwQr",
        "colab_type": "code",
        "colab": {
          "base_uri": "https://localhost:8080/",
          "height": 34
        },
        "outputId": "58937db5-7cc6-4962-e63d-e40f8120c12b"
      },
      "source": [
        "List=[1,2,3,1,2,1,2,3,2,1]\n",
        "print(List.count(1))"
      ],
      "execution_count": null,
      "outputs": [
        {
          "output_type": "stream",
          "text": [
            "4\n"
          ],
          "name": "stdout"
        }
      ]
    },
    {
      "cell_type": "code",
      "metadata": {
        "id": "h0NRfX80yGLt",
        "colab_type": "code",
        "colab": {
          "base_uri": "https://localhost:8080/",
          "height": 54
        },
        "outputId": "77a8a09c-14f1-466c-9f4d-94a8cc6837e8"
      },
      "source": [
        "Dict={'tim':18,'saru':12,'priya':22,'robert':25}\n",
        "Dict.update({\"Sarah\":9})\n",
        "print (Dict)"
      ],
      "execution_count": null,
      "outputs": [
        {
          "output_type": "stream",
          "text": [
            "{'tim': 18, 'saru': 12, 'priya': 22, 'robert': 25, 'Sarah': 9}\n"
          ],
          "name": "stdout"
        }
      ]
    },
    {
      "cell_type": "code",
      "metadata": {
        "id": "85f4y1ppz2xj",
        "colab_type": "code",
        "colab": {
          "base_uri": "https://localhost:8080/",
          "height": 34
        },
        "outputId": "da089b44-4bc9-4841-b44d-70e0147b2dd7"
      },
      "source": [
        "Dict={'tim':18,'saru':12,'priya':22}\n",
        "del Dict['saru']\n",
        "print (Dict)"
      ],
      "execution_count": null,
      "outputs": [
        {
          "output_type": "stream",
          "text": [
            "{'tim': 18, 'priya': 22}\n"
          ],
          "name": "stdout"
        }
      ]
    },
    {
      "cell_type": "code",
      "metadata": {
        "id": "O61wncuB1ZV9",
        "colab_type": "code",
        "colab": {
          "base_uri": "https://localhost:8080/",
          "height": 34
        },
        "outputId": "365f175b-8097-471b-d374-4766a78bb244"
      },
      "source": [
        " \n",
        "Dict1\n",
        "Dict2\n",
        "Dict='Dict1'+'Dict2'\n",
        "print(Dict)"
      ],
      "execution_count": null,
      "outputs": [
        {
          "output_type": "stream",
          "text": [
            "Dict1Dict2\n"
          ],
          "name": "stdout"
        }
      ]
    },
    {
      "cell_type": "code",
      "metadata": {
        "id": "ZtNWXfOR4jG9",
        "colab_type": "code",
        "colab": {
          "base_uri": "https://localhost:8080/",
          "height": 34
        },
        "outputId": "6da4fde1-de03-49bf-d40a-7b5fd2ac1eda"
      },
      "source": [
        "Dict={123,323,432}\n",
        "Dict.update({456})\n",
        "print (Dict)"
      ],
      "execution_count": null,
      "outputs": [
        {
          "output_type": "stream",
          "text": [
            "{432, 323, 123, 456}\n"
          ],
          "name": "stdout"
        }
      ]
    },
    {
      "cell_type": "code",
      "metadata": {
        "id": "6B-1Fn1H5Bwy",
        "colab_type": "code",
        "colab": {
          "base_uri": "https://localhost:8080/",
          "height": 34
        },
        "outputId": "7ebbc63d-2c9b-49a9-8986-cc57318f7d1b"
      },
      "source": [
        "Dict={\"alpha\",\"beta\"}\n",
        " \n",
        "print(Dict)"
      ],
      "execution_count": null,
      "outputs": [
        {
          "output_type": "stream",
          "text": [
            "{'alpha', 'beta'}\n"
          ],
          "name": "stdout"
        }
      ]
    },
    {
      "cell_type": "code",
      "metadata": {
        "id": "AtYX_1dr6dzZ",
        "colab_type": "code",
        "colab": {
          "base_uri": "https://localhost:8080/",
          "height": 51
        },
        "outputId": "c64117d8-6d17-4c58-ae0b-7dc12c3540a0"
      },
      "source": [
        "Myset=set([\"a\",\"b\",\"c\"])\n",
        "print (Myset)\n",
        "Myset.add(\"d\")\n",
        "print(Myset)"
      ],
      "execution_count": null,
      "outputs": [
        {
          "output_type": "stream",
          "text": [
            "{'b', 'c', 'a'}\n",
            "{'b', 'c', 'a', 'd'}\n"
          ],
          "name": "stdout"
        }
      ]
    },
    {
      "cell_type": "code",
      "metadata": {
        "id": "jk4zYmvz7BtQ",
        "colab_type": "code",
        "colab": {
          "base_uri": "https://localhost:8080/",
          "height": 51
        },
        "outputId": "ea86e557-43c8-4ba3-c94e-27539df6784d"
      },
      "source": [
        "Myset=set([1,2,3])\n",
        "print(Myset)\n",
        "Myset.update([4,5,6])\n",
        "print(Myset)"
      ],
      "execution_count": null,
      "outputs": [
        {
          "output_type": "stream",
          "text": [
            "{1, 2, 3}\n",
            "{1, 2, 3, 4, 5, 6}\n"
          ],
          "name": "stdout"
        }
      ]
    },
    {
      "cell_type": "code",
      "metadata": {
        "id": "rGxkl-Q47rg8",
        "colab_type": "code",
        "colab": {
          "base_uri": "https://localhost:8080/",
          "height": 88
        },
        "outputId": "ee32ff41-8792-4dff-b825-9137545a5a65"
      },
      "source": [
        "Myset=set(\"hello world\")\n",
        "print(Myset)\n",
        "print(Myset.pop())\n",
        "Myset.clear()\n",
        "print(Myset)"
      ],
      "execution_count": null,
      "outputs": [
        {
          "output_type": "stream",
          "text": [
            "{'l', 'd', 'e', 'w', ' ', 'o', 'h', 'r'}\n",
            "l\n",
            "set()\n"
          ],
          "name": "stdout"
        }
      ]
    },
    {
      "cell_type": "code",
      "metadata": {
        "id": "NcXv4SYD8KQ6",
        "colab_type": "code",
        "colab": {
          "base_uri": "https://localhost:8080/",
          "height": 34
        },
        "outputId": "cf294950-bd41-448d-a8bb-c7bbc1db0e53"
      },
      "source": [
        "Myset={1,2,3,4,5}\n",
        "Myset.discard(4)\n",
        "print(Myset)"
      ],
      "execution_count": null,
      "outputs": [
        {
          "output_type": "stream",
          "text": [
            "{1, 2, 3, 5}\n"
          ],
          "name": "stdout"
        }
      ]
    },
    {
      "cell_type": "code",
      "metadata": {
        "id": "wQNOo0yy8cS0",
        "colab_type": "code",
        "colab": {
          "base_uri": "https://localhost:8080/",
          "height": 34
        },
        "outputId": "8a0b7147-9fab-418d-956b-0c3c2df87ce8"
      },
      "source": [
        "Myset={1,2,3,4,5,6}\n",
        "Myset.update({9})\n",
        "print(Myset)"
      ],
      "execution_count": null,
      "outputs": [
        {
          "output_type": "stream",
          "text": [
            "{1, 2, 3, 4, 5, 6, 9}\n"
          ],
          "name": "stdout"
        }
      ]
    },
    {
      "cell_type": "code",
      "metadata": {
        "id": "8ZwtW1gf86Wu",
        "colab_type": "code",
        "colab": {
          "base_uri": "https://localhost:8080/",
          "height": 85
        },
        "outputId": "1bfdeb7f-9f1b-436a-989e-8ab6387a4c1f"
      },
      "source": [
        "My_tuple=('a','p','p','l','e')\n",
        "print(My_tuple.count('p'))\n",
        "print(My_tuple.index('l'))\n",
        "print(My_tuple[-1])\n",
        "print(My_tuple[0])"
      ],
      "execution_count": null,
      "outputs": [
        {
          "output_type": "stream",
          "text": [
            "2\n",
            "3\n",
            "e\n",
            "a\n"
          ],
          "name": "stdout"
        }
      ]
    },
    {
      "cell_type": "code",
      "metadata": {
        "id": "N88cDV3jAG3n",
        "colab_type": "code",
        "colab": {
          "base_uri": "https://localhost:8080/",
          "height": 34
        },
        "outputId": "3f597e5a-c3ff-4b9f-fb77-a941ee549c70"
      },
      "source": [
        "a=\"hello\",\"world!\"\n",
        "print(len(a))"
      ],
      "execution_count": null,
      "outputs": [
        {
          "output_type": "stream",
          "text": [
            "2\n"
          ],
          "name": "stdout"
        }
      ]
    },
    {
      "cell_type": "code",
      "metadata": {
        "id": "P9NHlGZQAbuH",
        "colab_type": "code",
        "colab": {
          "base_uri": "https://localhost:8080/",
          "height": 34
        },
        "outputId": "36b64cbc-b40e-42eb-8897-d97f7c03f756"
      },
      "source": [
        "a=\"hello\",\"world!\"\n",
        "print(a[1])"
      ],
      "execution_count": null,
      "outputs": [
        {
          "output_type": "stream",
          "text": [
            "world!\n"
          ],
          "name": "stdout"
        }
      ]
    },
    {
      "cell_type": "code",
      "metadata": {
        "id": "JHzJYFBfBgsp",
        "colab_type": "code",
        "colab": {
          "base_uri": "https://localhost:8080/",
          "height": 68
        },
        "outputId": "5aa6c13a-c248-4a10-a6e8-63c7fcc9e402"
      },
      "source": [
        "Str1=\"hello\"\n",
        "Str2=\"world\"\n",
        "print(Str1+Str2)\n",
        "print('Str1*3=',Str1*3)\n",
        "print('Str1+Str2=',Str1+Str2)"
      ],
      "execution_count": null,
      "outputs": [
        {
          "output_type": "stream",
          "text": [
            "helloworld\n",
            "Str1*3= hellohellohello\n",
            "Str1+Str2= helloworld\n"
          ],
          "name": "stdout"
        }
      ]
    },
    {
      "cell_type": "markdown",
      "metadata": {
        "id": "AwoIef3clnF8",
        "colab_type": "text"
      },
      "source": [
        ""
      ]
    },
    {
      "cell_type": "code",
      "metadata": {
        "id": "C8685X8rCL1Y",
        "colab_type": "code",
        "colab": {}
      },
      "source": [
        ""
      ],
      "execution_count": null,
      "outputs": []
    }
  ]
}