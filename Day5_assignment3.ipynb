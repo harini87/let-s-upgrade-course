{
  "nbformat": 4,
  "nbformat_minor": 0,
  "metadata": {
    "colab": {
      "name": "Day5 assignment3",
      "provenance": [],
      "authorship_tag": "ABX9TyOnX7gcAuAMGXZ/CKaRyQrV",
      "include_colab_link": true
    },
    "kernelspec": {
      "name": "python3",
      "display_name": "Python 3"
    }
  },
  "cells": [
    {
      "cell_type": "markdown",
      "metadata": {
        "id": "view-in-github",
        "colab_type": "text"
      },
      "source": [
        "<a href=\"https://colab.research.google.com/github/harini87/let-s-upgrade-course/blob/master/Day5_assignment3.ipynb\" target=\"_parent\"><img src=\"https://colab.research.google.com/assets/colab-badge.svg\" alt=\"Open In Colab\"/></a>"
      ]
    },
    {
      "cell_type": "code",
      "metadata": {
        "id": "kDtRzCA5FdHs",
        "colab_type": "code",
        "colab": {
          "base_uri": "https://localhost:8080/",
          "height": 68
        },
        "outputId": "679ffe90-9e2b-4f33-d402-bda22cf8c604"
      },
      "source": [
        "text = lambda txt: print(txt.upper())\n",
        "last = [\"hi this is sai\",\"i am in mumbai\"]\n",
        "list(map(lambda txt: print(txt.upper()),last))"
      ],
      "execution_count": 4,
      "outputs": [
        {
          "output_type": "stream",
          "text": [
            "HI THIS IS SAI\n",
            "I AM IN MUMBAI\n"
          ],
          "name": "stdout"
        },
        {
          "output_type": "execute_result",
          "data": {
            "text/plain": [
              "[None, None]"
            ]
          },
          "metadata": {
            "tags": []
          },
          "execution_count": 4
        }
      ]
    }
  ]
}