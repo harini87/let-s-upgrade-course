{
  "nbformat": 4,
  "nbformat_minor": 0,
  "metadata": {
    "colab": {
      "name": "Day8 assignment1",
      "provenance": [],
      "authorship_tag": "ABX9TyNpz727+x8dxQ65kEi1sgl+",
      "include_colab_link": true
    },
    "kernelspec": {
      "name": "python3",
      "display_name": "Python 3"
    }
  },
  "cells": [
    {
      "cell_type": "markdown",
      "metadata": {
        "id": "view-in-github",
        "colab_type": "text"
      },
      "source": [
        "<a href=\"https://colab.research.google.com/github/harini87/let-s-upgrade-course/blob/master/Day8_assignment1.ipynb\" target=\"_parent\"><img src=\"https://colab.research.google.com/assets/colab-badge.svg\" alt=\"Open In Colab\"/></a>"
      ]
    },
    {
      "cell_type": "code",
      "metadata": {
        "id": "8pEpA1JjhBp1",
        "colab_type": "code",
        "colab": {}
      },
      "source": [
        " def fibonacci(n):\n",
        "   \n",
        "   n1=0\n",
        " n2=1\n",
        " count=0\n",
        " if(n==1):\n",
        "   print(\"fibonacci series upto\",n)\n",
        "   print(\"n1\")\n",
        "else:\n",
        "   print(\"fibonacci sequence:\")\n",
        "   while count < n:\n",
        "      print(n1)\n",
        "      nth=n1+n2\n",
        "      n1=n2\n",
        "      n2=nth\n",
        "      count = +1\n",
        "def smart_fibonacci(func):\n",
        "    def inner(n):\n",
        "       if(n<=0):\n",
        "        print(\"invalid input\")\n",
        "       else:\n",
        "         print(\"input is valid\")\n",
        "       return func(n)\n",
        "return inner\n",
        "fibonacci = smart_fibonacci(fibonacci)"
      ],
      "execution_count": null,
      "outputs": []
    }
  ]
}