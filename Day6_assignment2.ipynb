{
  "nbformat": 4,
  "nbformat_minor": 0,
  "metadata": {
    "colab": {
      "name": "Day6 assignment2",
      "provenance": [],
      "authorship_tag": "ABX9TyMvw4BZazCiENDHu5lnPd1j",
      "include_colab_link": true
    },
    "kernelspec": {
      "name": "python3",
      "display_name": "Python 3"
    }
  },
  "cells": [
    {
      "cell_type": "markdown",
      "metadata": {
        "id": "view-in-github",
        "colab_type": "text"
      },
      "source": [
        "<a href=\"https://colab.research.google.com/github/harini87/let-s-upgrade-course/blob/master/Day6_assignment2.ipynb\" target=\"_parent\"><img src=\"https://colab.research.google.com/assets/colab-badge.svg\" alt=\"Open In Colab\"/></a>"
      ]
    },
    {
      "cell_type": "code",
      "metadata": {
        "id": "66iEO1LH1-8z",
        "colab_type": "code",
        "colab": {
          "base_uri": "https://localhost:8080/",
          "height": 190
        },
        "outputId": "c410115b-912f-4018-bc2b-a63d86550c20"
      },
      "source": [
        " \n",
        "# Python program to create Bankaccount class \n",
        "# with both a deposit() and a withdraw() function \n",
        " \n",
        "class Bank_Account: \n",
        " \n",
        "    def __init__(self): \n",
        " \n",
        "        self.balance=0\n",
        " \n",
        "        print(\"Hello!!! Welcome to the Deposit & Withdrawal Machine\") \n",
        " \n",
        "  \n",
        " \n",
        "    def deposit(self): \n",
        " \n",
        "        amount=float(input(\"Enter amount to be Deposited: \")) \n",
        " \n",
        "        self.balance += amount \n",
        " \n",
        "        print(\"\\n Amount Deposited:\",amount) \n",
        " \n",
        "  \n",
        " \n",
        "    def withdraw(self): \n",
        " \n",
        "        amount = float(input(\"Enter amount to be Withdrawn: \")) \n",
        " \n",
        "        if self.balance>=amount: \n",
        " \n",
        "            self.balance-=amount \n",
        " \n",
        "            print(\"\\n You Withdrew:\", amount) \n",
        " \n",
        "        else: \n",
        " \n",
        "            print(\"\\n Insufficient balance  \") \n",
        " \n",
        "  \n",
        " \n",
        "    def display(self): \n",
        " \n",
        "        print(\"\\n Net Available Balance=\",self.balance) \n",
        " \n",
        "  \n",
        "# Driver code \n",
        " \n",
        "   \n",
        "# creating an object of class \n",
        " \n",
        "s = Bank_Account() \n",
        " \n",
        "   \n",
        "# Calling functions with that class object \n",
        "s.deposit() \n",
        "s.withdraw() \n",
        "s.display()"
      ],
      "execution_count": 1,
      "outputs": [
        {
          "output_type": "stream",
          "text": [
            "Hello!!! Welcome to the Deposit & Withdrawal Machine\n",
            "Enter amount to be Deposited: 1000.0\n",
            "\n",
            " Amount Deposited: 1000.0\n",
            "Enter amount to be Withdrawn: 500.0\n",
            "\n",
            " You Withdrew: 500.0\n",
            "\n",
            " Net Available Balance= 500.0\n"
          ],
          "name": "stdout"
        }
      ]
    }
  ]
}